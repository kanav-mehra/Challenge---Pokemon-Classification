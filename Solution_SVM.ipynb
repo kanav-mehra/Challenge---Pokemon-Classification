{
 "cells": [
  {
   "cell_type": "markdown",
   "metadata": {},
   "source": [
    "## Multiclass Image Classification Project\n",
    "\n",
    "### Challenge - PokeMon's on Goa Trip\n",
    "\n",
    "**Description** - You are going on a trip to Dudhsagar Falls, Goa. To reach the falls you have to cross a huge forest in Collem, so you thought of entering the forest. While you are on your route you spotted multiple Pokemons like Bulbasaur, Pikachu, and Charmender. After coming back, you thought of making a PokeDex - a Pokemon Detector Device which classifies these Pokemons. Write an algorithm that classifies these PokeMons.\n",
    "\n",
    "**Approach** - Classification of Pokemons using SVM implementation from scratch."
   ]
  },
  {
   "cell_type": "code",
   "execution_count": 1,
   "metadata": {
    "scrolled": false
   },
   "outputs": [
    {
     "name": "stderr",
     "output_type": "stream",
     "text": [
      "Using TensorFlow backend.\n"
     ]
    }
   ],
   "source": [
    "import numpy as np\n",
    "from keras.preprocessing import image\n",
    "import os\n",
    "from pathlib import Path\n",
    "import matplotlib.pyplot as plt\n",
    "from PIL import Image\n",
    "import pandas as pd"
   ]
  },
  {
   "cell_type": "code",
   "execution_count": 2,
   "metadata": {},
   "outputs": [
    {
     "name": "stderr",
     "output_type": "stream",
     "text": [
      "c:\\users\\kanav mehra\\appdata\\local\\programs\\python\\python38\\lib\\site-packages\\PIL\\Image.py:959: UserWarning: Palette images with Transparency expressed in bytes should be converted to RGBA images\n",
      "  warnings.warn(\n"
     ]
    }
   ],
   "source": [
    "## Training Data\n",
    "\n",
    "path = Path(\"Train\")  ## Path of the directory containing the folders with images - training data\n",
    "dirs = path.glob(\"*\")   ## Directories within the path\n",
    "\n",
    "labels_encoded = {\"Pikachu\":0, \"Bulbasaur\":1, \"Charmander\":2} ## encoding the categories in the dictionary - labels\n",
    "\n",
    "image_data = []\n",
    "labels = []\n",
    "\n",
    "for folder in dirs:\n",
    "    label = str(folder).split(\"\\\\\")[1]\n",
    "    \n",
    "    for img_path in folder.glob(\"*.jpg\"):\n",
    "        img = image.load_img(img_path, target_size=(32,32))  ## Load every image with size = 32x32\n",
    "        img_array = image.img_to_array(img)  ## Convert the image into a 32,32,3 array (RGB)\n",
    "        image_data.append(img_array)         ## Append the array to the list of image_data\n",
    "        labels.append(labels_encoded[label]) ## Store the label for the given image"
   ]
  },
  {
   "cell_type": "code",
   "execution_count": 3,
   "metadata": {},
   "outputs": [],
   "source": [
    "## Testing Data\n",
    "\n",
    "test_path = Path(\"Test\")  ## Path of the directory containing the folders with images - testing data\n",
    "test_dirs = test_path.glob(\"*\")   ## Directories within the test path\n",
    "\n",
    "test_data = []\n",
    "file_names = []\n",
    "\n",
    "for folder in test_dirs:\n",
    "    for img_path in folder.glob(\"*.jpg\"):\n",
    "        file_names.append(img_path.name)\n",
    "        img = image.load_img(img_path, target_size=(32,32))  ## Load every image with size = 32x32\n",
    "        img_array = image.img_to_array(img)  ## Convert the image into a 32,32,3 array (RGB)\n",
    "        test_data.append(img_array)         ## Append the array to the list of image_data"
   ]
  },
  {
   "cell_type": "code",
   "execution_count": 4,
   "metadata": {},
   "outputs": [
    {
     "name": "stdout",
     "output_type": "stream",
     "text": [
      "(304, 32, 32, 3)\n",
      "(304,)\n",
      "(123, 32, 32, 3)\n"
     ]
    }
   ],
   "source": [
    "## Storing as a numpy array\n",
    "\n",
    "image_data = np.array(image_data, dtype='float32')/255.0  ## Normalising the pixel values (0 to 1)\n",
    "labels = np.array(labels)\n",
    "\n",
    "test_data = np.array(test_data, dtype='float32')/255.0  ## Normalising the pixel values (0 to 1)\n",
    "\n",
    "print(image_data.shape)\n",
    "print(labels.shape)\n",
    "print(test_data.shape)"
   ]
  },
  {
   "cell_type": "markdown",
   "metadata": {},
   "source": [
    "### Random Shuffling of Data for Training Purpose"
   ]
  },
  {
   "cell_type": "code",
   "execution_count": 5,
   "metadata": {},
   "outputs": [],
   "source": [
    "import random\n",
    "\n",
    "combined = list(zip(image_data, labels))  ## Zip the data and label together as a tuple into a list \n",
    "random.shuffle(combined)\n",
    "\n",
    "## Unzip the data\n",
    "image_data[:], labels[:] = zip(*combined)"
   ]
  },
  {
   "cell_type": "code",
   "execution_count": 6,
   "metadata": {},
   "outputs": [
    {
     "name": "stdout",
     "output_type": "stream",
     "text": [
      "(304, 32, 32, 3)\n",
      "(304,)\n"
     ]
    }
   ],
   "source": [
    "print(image_data.shape)\n",
    "print(labels.shape)"
   ]
  },
  {
   "cell_type": "markdown",
   "metadata": {},
   "source": [
    "### View Image"
   ]
  },
  {
   "cell_type": "code",
   "execution_count": 7,
   "metadata": {},
   "outputs": [],
   "source": [
    "def plotImage(img, label):\n",
    "    plt.imshow(img)\n",
    "    plt.title(label)\n",
    "    plt.axis(\"off\")\n",
    "    plt.show()"
   ]
  },
  {
   "cell_type": "code",
   "execution_count": 8,
   "metadata": {},
   "outputs": [
    {
     "data": {
      "image/png": "[encoded data removed]",
      "text/plain": [
       "<Figure size 432x288 with 1 Axes>"
      ]
     },
     "metadata": {
      "needs_background": "light"
     },
     "output_type": "display_data"
    },
    {
     "data": {
      "image/png": "[encoded data removed]",
      "text/plain": [
       "<Figure size 432x288 with 1 Axes>"
      ]
     },
     "metadata": {
      "needs_background": "light"
     },
     "output_type": "display_data"
    },
    {
     "data": {
      "image/png": "[encoded data removed]",
      "text/plain": [
       "<Figure size 432x288 with 1 Axes>"
      ]
     },
     "metadata": {
      "needs_background": "light"
     },
     "output_type": "display_data"
    },
    {
     "data": {
      "image/png": "[encoded data removed]",
      "text/plain": [
       "<Figure size 432x288 with 1 Axes>"
      ]
     },
     "metadata": {
      "needs_background": "light"
     },
     "output_type": "display_data"
    },
    {
     "data": {
      "image/png": "[encoded data removed]",
      "text/plain": [
       "<Figure size 432x288 with 1 Axes>"
      ]
     },
     "metadata": {
      "needs_background": "light"
     },
     "output_type": "display_data"
    },
    {
     "data": {
      "image/png": "[encoded data removed]",
      "text/plain": [
       "<Figure size 432x288 with 1 Axes>"
      ]
     },
     "metadata": {
      "needs_background": "light"
     },
     "output_type": "display_data"
    },
    {
     "data": {
      "image/png": "[encoded data removed]",
      "text/plain": [
       "<Figure size 432x288 with 1 Axes>"
      ]
     },
     "metadata": {
      "needs_background": "light"
     },
     "output_type": "display_data"
    },
    {
     "data": {
      "image/png": "[encoded data removed]",
      "text/plain": [
       "<Figure size 432x288 with 1 Axes>"
      ]
     },
     "metadata": {
      "needs_background": "light"
     },
     "output_type": "display_data"
    },
    {
     "data": {
      "image/png": "[encoded data removed]",
      "text/plain": [
       "<Figure size 432x288 with 1 Axes>"
      ]
     },
     "metadata": {
      "needs_background": "light"
     },
     "output_type": "display_data"
    },
    {
     "data": {
      "image/png": "[encoded data removed]",
      "text/plain": [
       "<Figure size 432x288 with 1 Axes>"
      ]
     },
     "metadata": {
      "needs_background": "light"
     },
     "output_type": "display_data"
    }
   ],
   "source": [
    "for i in range(10):\n",
    "    plotImage(image_data[i], labels[i])"
   ]
  },
  {
   "cell_type": "markdown",
   "metadata": {},
   "source": [
    "### Reshape Data"
   ]
  },
  {
   "cell_type": "code",
   "execution_count": 9,
   "metadata": {},
   "outputs": [
    {
     "name": "stdout",
     "output_type": "stream",
     "text": [
      "(304, 3072)\n",
      "(123, 3072)\n"
     ]
    }
   ],
   "source": [
    "## Flatten the 32x32x3 array into a single dimensional array\n",
    "\n",
    "no_of_samples_train = image_data.shape[0]\n",
    "no_of_samples_test = test_data.shape[0]\n",
    "\n",
    "image_data = image_data.reshape(no_of_samples_train,-1)\n",
    "test_data = test_data.reshape(no_of_samples_test,-1)\n",
    "\n",
    "print(image_data.shape)\n",
    "print(test_data.shape)"
   ]
  },
  {
   "cell_type": "markdown",
   "metadata": {},
   "source": [
    "### Prepare Data for One v One Classification"
   ]
  },
  {
   "cell_type": "code",
   "execution_count": 10,
   "metadata": {},
   "outputs": [],
   "source": [
    "CLASSES = len(np.unique(labels)) ## No.of labels/classes"
   ]
  },
  {
   "cell_type": "code",
   "execution_count": 107,
   "metadata": {},
   "outputs": [],
   "source": [
    "def classWiseDate(X, Y):\n",
    "    '''Arrange the data in class wise fashion'''\n",
    "    \n",
    "    data = {}\n",
    "    \n",
    "    for i in range(CLASSES):\n",
    "        data[i] = []  ## Empty list for every label\n",
    "    \n",
    "    for i in range(X.shape[0]):\n",
    "        data[Y[i]].append(X[i])\n",
    "        \n",
    "    for k in data.keys():\n",
    "        data[k] = np.array(data[k])\n",
    "        \n",
    "    return data"
   ]
  },
  {
   "cell_type": "code",
   "execution_count": 108,
   "metadata": {},
   "outputs": [],
   "source": [
    "data = classWiseDate(image_data, labels)"
   ]
  },
  {
   "cell_type": "code",
   "execution_count": 109,
   "metadata": {},
   "outputs": [],
   "source": [
    "def pairWiseData(X1, X2):\n",
    "    '''Generates a combined dataset for 2 distinct datasets representing different classes'''\n",
    "    \n",
    "    no_of_samples_X1 = X1.shape[0]\n",
    "    no_of_samples_X2 = X2.shape[0]\n",
    "    no_of_features = X1.shape[1]\n",
    "    \n",
    "    total_samples = no_of_samples_X1 + no_of_samples_X2\n",
    "    \n",
    "    combined_X = np.zeros((total_samples, no_of_features))\n",
    "    combined_Y = np.zeros((total_samples,))\n",
    "    \n",
    "    combined_X[:no_of_samples_X1,:] = X1\n",
    "    combined_X[no_of_samples_X1:,:] = X2\n",
    "    combined_Y[:no_of_samples_X1] = -1\n",
    "    combined_Y[no_of_samples_X1:] = 1\n",
    "    \n",
    "    return combined_X, combined_Y"
   ]
  },
  {
   "cell_type": "markdown",
   "metadata": {},
   "source": [
    "### SVM Classifier"
   ]
  },
  {
   "cell_type": "code",
   "execution_count": 110,
   "metadata": {},
   "outputs": [],
   "source": [
    "class SVM:\n",
    "    '''Implementation of SVM Classifier using PEGASOS Algorithm'''\n",
    "    \n",
    "    def __init__(self,C=1.0):\n",
    "        self.W = 0\n",
    "        self.b = 0\n",
    "        self.C = C\n",
    "        \n",
    "    def hingeLoss(self, X, Y, W, b):\n",
    "        '''Implementation of Hinge loss'''\n",
    "        \n",
    "        loss = 0.5*np.dot(W,W.T)\n",
    "        samples = X.shape[0]\n",
    "        \n",
    "        for i in range(samples):\n",
    "            ti = Y[i]*(np.dot(W, X[i].T) + b)\n",
    "            loss = loss + self.C*max(0, (1-ti))\n",
    "            \n",
    "        return loss[0][0]\n",
    "    \n",
    "    def fit(self, X, Y, learning_rate=0.001, maxIter=100, batch_size=50):\n",
    "        '''Pegasos Implementation - Batch Gradient Descent with Random Shuffling'''\n",
    "        \n",
    "        no_of_samples = X.shape[0]\n",
    "        no_of_features = X.shape[1]\n",
    "        \n",
    "        W = np.zeros((1, no_of_features))\n",
    "        b = 0\n",
    "        \n",
    "        losses = []\n",
    "        \n",
    "        for k in range(maxIter):\n",
    "            loss = self.hingeLoss(X, Y, W, b)\n",
    "            losses.append(loss)\n",
    "            ids = np.arange(no_of_samples)\n",
    "            np.random.shuffle(ids)\n",
    "            \n",
    "            for batch_start in range(0, no_of_samples, batch_size):\n",
    "                grad_w = 0\n",
    "                grad_b = 0\n",
    "                for j in range(batch_start, batch_start+batch_size):\n",
    "                    if j<no_of_samples:\n",
    "                        i = ids[j]\n",
    "                        ti = Y[i]*(np.dot(W, X[i].T) + b)\n",
    "                        \n",
    "                        ## Case 1 : No Error\n",
    "                        if ti>1:\n",
    "                            grad_w += 0\n",
    "                            grad_b += 0 \n",
    "                        \n",
    "                        ## Case 2 : Error\n",
    "                        else:\n",
    "                            grad_w += self.C*Y[i]*X[i]\n",
    "                            grad_b += self.C*Y[i]\n",
    "                            \n",
    "                ## Update Rule\n",
    "                W = W - learning_rate*W + learning_rate*grad_w\n",
    "                b = b + learning_rate*grad_b\n",
    "        \n",
    "        self.W = W\n",
    "        self.b = b\n",
    "        \n",
    "        return losses, W, b"
   ]
  },
  {
   "cell_type": "markdown",
   "metadata": {},
   "source": [
    "### Training nC2 SVM Classifiers"
   ]
  },
  {
   "cell_type": "code",
   "execution_count": 111,
   "metadata": {},
   "outputs": [],
   "source": [
    "def trainSVMs(X, Y):\n",
    "    \n",
    "    classifiers = {}\n",
    "    for i in range(CLASSES):\n",
    "        classifiers[i] = {}\n",
    "        for j in range(i+1, CLASSES):\n",
    "            mySVM = SVM()\n",
    "            xp, yp = pairWiseData(data[i], data[j])\n",
    "            loss, W, b = mySVM.fit(xp,yp,learning_rate=0.00001,maxIter=2500)\n",
    "            classifiers[i][j] = (W, b)\n",
    "            plt.plot(loss)\n",
    "            plt.xlabel(\"No.of Iterations\")\n",
    "            plt.ylabel(\"Loss\")\n",
    "            plt.title(\"Class \"+str(i)+\" and \"+\"Class \"+str(j))\n",
    "            plt.show()\n",
    "    \n",
    "    return classifiers"
   ]
  },
  {
   "cell_type": "code",
   "execution_count": 112,
   "metadata": {},
   "outputs": [
    {
     "data": {
      "image/png": "[encoded data removed]",
      "text/plain": [
       "<Figure size 432x288 with 1 Axes>"
      ]
     },
     "metadata": {
      "needs_background": "light"
     },
     "output_type": "display_data"
    },
    {
     "data": {
      "image/png": "[encoded data removed]",
      "text/plain": [
       "<Figure size 432x288 with 1 Axes>"
      ]
     },
     "metadata": {
      "needs_background": "light"
     },
     "output_type": "display_data"
    },
    {
     "data": {
      "image/png": "[encoded data removed]",
      "text/plain": [
       "<Figure size 432x288 with 1 Axes>"
      ]
     },
     "metadata": {
      "needs_background": "light"
     },
     "output_type": "display_data"
    }
   ],
   "source": [
    "classifiers = trainSVMs(image_data, labels)"
   ]
  },
  {
   "cell_type": "markdown",
   "metadata": {},
   "source": [
    "### Prediction"
   ]
  },
  {
   "cell_type": "code",
   "execution_count": 113,
   "metadata": {},
   "outputs": [],
   "source": [
    "def binaryPredict(x, W, b):\n",
    "    z = np.dot(W, x.T)+b\n",
    "    if z>=0:\n",
    "        return 1\n",
    "    else:\n",
    "        return -1"
   ]
  },
  {
   "cell_type": "code",
   "execution_count": 114,
   "metadata": {},
   "outputs": [],
   "source": [
    "def predict(x):\n",
    "    '''Getting the prediction for a single point x based on majority voting from all classifiers'''\n",
    "    \n",
    "    count = np.zeros((CLASSES,))\n",
    "    \n",
    "    for i in range(CLASSES):\n",
    "        for j in range(i+1, CLASSES):\n",
    "            W = classifiers[i][j][0]\n",
    "            b = classifiers[i][j][1]\n",
    "            prediction = binaryPredict(x, W, b)\n",
    "            if prediction==1:\n",
    "                count[j] += 1\n",
    "            else:\n",
    "                count[i] += 1\n",
    "    \n",
    "    prediction = np.argmax(count)\n",
    "    \n",
    "    return prediction"
   ]
  },
  {
   "cell_type": "code",
   "execution_count": 115,
   "metadata": {},
   "outputs": [],
   "source": [
    "def accuracy(X, Y):\n",
    "    count = 0\n",
    "    for i in range(X.shape[0]):\n",
    "        pred = predict(X[i])\n",
    "        if pred==Y[i]:\n",
    "            count += 1\n",
    "    \n",
    "    return count/X.shape[0]"
   ]
  },
  {
   "cell_type": "code",
   "execution_count": 116,
   "metadata": {},
   "outputs": [
    {
     "name": "stdout",
     "output_type": "stream",
     "text": [
      "0.680921052631579\n"
     ]
    }
   ],
   "source": [
    "train_accuracy = accuracy(image_data, labels)\n",
    "print(train_accuracy)"
   ]
  },
  {
   "cell_type": "markdown",
   "metadata": {},
   "source": [
    "### Classifying Test Data"
   ]
  },
  {
   "cell_type": "code",
   "execution_count": 117,
   "metadata": {},
   "outputs": [
    {
     "name": "stdout",
     "output_type": "stream",
     "text": [
      "[1, 0, 1, 1, 1, 1, 1, 1, 1, 0, 1, 1, 1, 1, 1, 1, 2, 1, 2, 1, 1, 1, 1, 0, 1, 2, 1, 2, 1, 1, 1, 1, 1, 1, 1, 1, 1, 1, 1, 2, 1, 0, 0, 0, 0, 0, 0, 0, 0, 0, 1, 0, 0, 0, 0, 0, 0, 0, 0, 0, 2, 0, 2, 0, 2, 1, 0, 0, 0, 0, 0, 2, 0, 0, 0, 0, 2, 0, 0, 0, 0, 0, 2, 2, 2, 2, 2, 2, 2, 2, 2, 2, 1, 2, 2, 0, 2, 2, 2, 0, 2, 2, 2, 2, 2, 2, 2, 2, 2, 2, 2, 1, 2, 2, 2, 2, 2, 2, 1, 2, 2, 2, 2]\n"
     ]
    }
   ],
   "source": [
    "y_predictions = []\n",
    "\n",
    "for i in range(test_data.shape[0]):\n",
    "    y_predictions.append(predict(test_data[i]))\n",
    "    \n",
    "print(y_predictions)"
   ]
  },
  {
   "cell_type": "code",
   "execution_count": 118,
   "metadata": {},
   "outputs": [
    {
     "name": "stdout",
     "output_type": "stream",
     "text": [
      "['Bulbasaur', 'Pikachu', 'Bulbasaur', 'Bulbasaur', 'Bulbasaur', 'Bulbasaur', 'Bulbasaur', 'Bulbasaur', 'Bulbasaur', 'Pikachu', 'Bulbasaur', 'Bulbasaur', 'Bulbasaur', 'Bulbasaur', 'Bulbasaur', 'Bulbasaur', 'Charmander', 'Bulbasaur', 'Charmander', 'Bulbasaur', 'Bulbasaur', 'Bulbasaur', 'Bulbasaur', 'Pikachu', 'Bulbasaur', 'Charmander', 'Bulbasaur', 'Charmander', 'Bulbasaur', 'Bulbasaur', 'Bulbasaur', 'Bulbasaur', 'Bulbasaur', 'Bulbasaur', 'Bulbasaur', 'Bulbasaur', 'Bulbasaur', 'Bulbasaur', 'Bulbasaur', 'Charmander', 'Bulbasaur', 'Pikachu', 'Pikachu', 'Pikachu', 'Pikachu', 'Pikachu', 'Pikachu', 'Pikachu', 'Pikachu', 'Pikachu', 'Bulbasaur', 'Pikachu', 'Pikachu', 'Pikachu', 'Pikachu', 'Pikachu', 'Pikachu', 'Pikachu', 'Pikachu', 'Pikachu', 'Charmander', 'Pikachu', 'Charmander', 'Pikachu', 'Charmander', 'Bulbasaur', 'Pikachu', 'Pikachu', 'Pikachu', 'Pikachu', 'Pikachu', 'Charmander', 'Pikachu', 'Pikachu', 'Pikachu', 'Pikachu', 'Charmander', 'Pikachu', 'Pikachu', 'Pikachu', 'Pikachu', 'Pikachu', 'Charmander', 'Charmander', 'Charmander', 'Charmander', 'Charmander', 'Charmander', 'Charmander', 'Charmander', 'Charmander', 'Charmander', 'Bulbasaur', 'Charmander', 'Charmander', 'Pikachu', 'Charmander', 'Charmander', 'Charmander', 'Pikachu', 'Charmander', 'Charmander', 'Charmander', 'Charmander', 'Charmander', 'Charmander', 'Charmander', 'Charmander', 'Charmander', 'Charmander', 'Charmander', 'Bulbasaur', 'Charmander', 'Charmander', 'Charmander', 'Charmander', 'Charmander', 'Charmander', 'Bulbasaur', 'Charmander', 'Charmander', 'Charmander', 'Charmander']\n"
     ]
    }
   ],
   "source": [
    "for i in range(len(y_predictions)):\n",
    "    for key in labels_encoded.keys():\n",
    "        if labels_encoded[key] == y_predictions[i]:\n",
    "            y_predictions[i] = key\n",
    "\n",
    "print(y_predictions)"
   ]
  },
  {
   "cell_type": "code",
   "execution_count": 119,
   "metadata": {},
   "outputs": [],
   "source": [
    "df_test = pd.read_csv('Test/test.csv')\n",
    "image_ids = list(df_test['ImageId'])\n",
    "y_values = []\n",
    "\n",
    "for img in image_ids:\n",
    "    idx = file_names.index(img)\n",
    "    y_values.append(y_predictions[idx])"
   ]
  },
  {
   "cell_type": "code",
   "execution_count": 120,
   "metadata": {},
   "outputs": [
    {
     "name": "stdout",
     "output_type": "stream",
     "text": [
      "Your submission was successfully saved!\n"
     ]
    }
   ],
   "source": [
    "output = pd.DataFrame({'ImageId':image_ids, 'NameOfPokemon': y_values})\n",
    "output.to_csv('submission_svm.csv', index=False)\n",
    "print(\"Your submission was successfully saved!\")"
   ]
  },
  {
   "cell_type": "code",
   "execution_count": null,
   "metadata": {},
   "outputs": [],
   "source": []
  },
  {
   "cell_type": "code",
   "execution_count": null,
   "metadata": {},
   "outputs": [],
   "source": []
  }
 ],
 "metadata": {
  "kernelspec": {
   "display_name": "Python 3",
   "language": "python",
   "name": "python3"
  },
  "language_info": {
   "codemirror_mode": {
    "name": "ipython",
    "version": 3
   },
   "file_extension": ".py",
   "mimetype": "text/x-python",
   "name": "python",
   "nbconvert_exporter": "python",
   "pygments_lexer": "ipython3",
   "version": "3.8.2"
  }
 },
 "nbformat": 4,
 "nbformat_minor": 4
}
